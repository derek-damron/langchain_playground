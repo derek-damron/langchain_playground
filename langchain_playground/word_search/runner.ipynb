{
 "cells": [
  {
   "cell_type": "code",
   "execution_count": 1,
   "id": "a824eb3a-d89f-46ac-8749-fa8649f22883",
   "metadata": {},
   "outputs": [],
   "source": [
    "from dotenv import load_dotenv\n",
    "from langchain_anthropic import ChatAnthropic\n",
    "from word_search_builder_v1 import AgentWordSearch\n",
    "from word_search_checker import string_to_grid, find_words, get_puzzle_accuracy, check_puzzle_size\n",
    "import numpy as np\n",
    "from tqdm import tqdm\n",
    "from langchain_core.prompts import PromptTemplate"
   ]
  },
  {
   "cell_type": "code",
   "execution_count": 2,
   "id": "5eebd119-26cf-4e4a-9cd6-0523b70b11f8",
   "metadata": {},
   "outputs": [
    {
     "data": {
      "text/plain": [
       "True"
      ]
     },
     "execution_count": 2,
     "metadata": {},
     "output_type": "execute_result"
    }
   ],
   "source": [
    "load_dotenv()"
   ]
  },
  {
   "cell_type": "code",
   "execution_count": 3,
   "id": "d778418e-2444-4cd3-a428-e566089cc99f",
   "metadata": {},
   "outputs": [],
   "source": [
    "# Load model\n",
    "model = ChatAnthropic(model=\"claude-3-5-sonnet-20240620\", temperature=.5)"
   ]
  },
  {
   "cell_type": "code",
   "execution_count": 4,
   "id": "a509034c-1410-4d2c-95bc-297aebe9592e",
   "metadata": {},
   "outputs": [],
   "source": [
    "# Create a word search\n",
    "ws = AgentWordSearch()\n",
    "n_rows = 7\n",
    "ws.create_word_search(model, 'math', 5, n_rows, n_rows)"
   ]
  },
  {
   "cell_type": "code",
   "execution_count": 5,
   "id": "5cb82aa2-30ce-43a9-a7e0-f20af97658f6",
   "metadata": {},
   "outputs": [
    {
     "name": "stdout",
     "output_type": "stream",
     "text": [
      "['ADD', 'SUM', 'DIGIT', 'RATIO', 'PRIME']\n",
      "A D D X X X P\n",
      "X I X S U M R\n",
      "G X G X X X I\n",
      "I X I X X X M\n",
      "T X T X X X E\n",
      "X X X R A T X\n",
      "X X X X X X O\n"
     ]
    }
   ],
   "source": [
    "# Inspect\n",
    "print(ws.words)\n",
    "print(ws.puzzle)"
   ]
  },
  {
   "cell_type": "code",
   "execution_count": 6,
   "id": "13d6e29d-31f9-45e8-83ca-4118da6626c4",
   "metadata": {},
   "outputs": [
    {
     "data": {
      "text/plain": [
       "True"
      ]
     },
     "execution_count": 6,
     "metadata": {},
     "output_type": "execute_result"
    }
   ],
   "source": [
    "# Check size\n",
    "check_puzzle_size(string_to_grid(ws.puzzle), n_rows, n_rows)"
   ]
  },
  {
   "cell_type": "code",
   "execution_count": 7,
   "id": "04718482-7637-46fd-adb7-060e73d52b33",
   "metadata": {},
   "outputs": [
    {
     "data": {
      "text/plain": [
       "0.6"
      ]
     },
     "execution_count": 7,
     "metadata": {},
     "output_type": "execute_result"
    }
   ],
   "source": [
    "# Check \"accuracy\": % words with exactly one match\n",
    "word_matches = find_words(string_to_grid(ws.puzzle), ws.words)\n",
    "get_puzzle_accuracy(word_matches)"
   ]
  },
  {
   "cell_type": "code",
   "execution_count": 8,
   "id": "87cbe844-73eb-40d9-8944-6b2c76bf369a",
   "metadata": {},
   "outputs": [
    {
     "name": "stderr",
     "output_type": "stream",
     "text": [
      "100%|███████████████████████████████████████████████████████████████████████████████████████████████████████████████████████████████████| 10/10 [01:00<00:00,  6.08s/it]"
     ]
    },
    {
     "name": "stdout",
     "output_type": "stream",
     "text": [
      "\n",
      "# Simulations: 10\n",
      "Accuracies: [0.8, 0.8, 0.8, 1.0, 0.6, 0.8, 1.0, 1.0, 0.8, 0.8]\n",
      "Median: 0.8\n",
      "Mean: 0.8400000000000001\n",
      "\n"
     ]
    },
    {
     "name": "stderr",
     "output_type": "stream",
     "text": [
      "\n"
     ]
    }
   ],
   "source": [
    "# Simluate 10 runs and see how well it does on average\n",
    "puzzle_accuracies = []\n",
    "for i in tqdm(range(10)):\n",
    "    ws = AgentWordSearch()\n",
    "    ws.create_word_search(model, 'math', 5, n_rows, n_rows)\n",
    "    try:\n",
    "        word_matches = find_words(string_to_grid(ws.puzzle), ws.words)\n",
    "    except:\n",
    "        # any puzzle error means accuracy = 0\n",
    "        puzzle_accuracies.append(0)\n",
    "    else:\n",
    "        puzzle_accuracies.append(get_puzzle_accuracy(word_matches))\n",
    "\n",
    "print(f'''\n",
    "# Simulations: {len(puzzle_accuracies)}\n",
    "Accuracies: {puzzle_accuracies}\n",
    "Median: {np.median(puzzle_accuracies)}\n",
    "Mean: {np.mean(puzzle_accuracies)}\n",
    "''')"
   ]
  },
  {
   "cell_type": "code",
   "execution_count": 11,
   "id": "e702e458-12e1-4454-9c84-3d84b5383d33",
   "metadata": {},
   "outputs": [
    {
     "name": "stderr",
     "output_type": "stream",
     "text": [
      "\n",
      "\u001b[A\n",
      "\u001b[A\n",
      "\u001b[A\n",
      "\u001b[A\n",
      "\u001b[A\n",
      "100%|█████████████████████████████████████████████████████████████████████████████████████████████████████████████████████████████████████| 5/5 [00:24<00:00,  4.83s/it]\n",
      " 33%|████████████████████████████████████████████▎                                                                                        | 1/3 [00:24<00:48, 24.20s/it]"
     ]
    },
    {
     "name": "stdout",
     "output_type": "stream",
     "text": [
      "\n",
      "        # Simulations: 5\n",
      "        Accuracies: [1.0, 0.6, 1.0, 1.0, 1.0]\n",
      "        Median: 1.0\n",
      "        Mean: 0.9199999999999999\n",
      "    \n"
     ]
    },
    {
     "name": "stderr",
     "output_type": "stream",
     "text": [
      "\n",
      "\u001b[A\n",
      "\u001b[A\n",
      "\u001b[A\n",
      "\u001b[A\n",
      "\u001b[A\n",
      "100%|█████████████████████████████████████████████████████████████████████████████████████████████████████████████████████████████████████| 5/5 [00:30<00:00,  6.19s/it]\n",
      " 67%|████████████████████████████████████████████████████████████████████████████████████████▋                                            | 2/3 [00:55<00:28, 28.19s/it]"
     ]
    },
    {
     "name": "stdout",
     "output_type": "stream",
     "text": [
      "\n",
      "        # Simulations: 5\n",
      "        Accuracies: [1.0, 1.0, 0.6, 1.0, 1.0]\n",
      "        Median: 1.0\n",
      "        Mean: 0.9199999999999999\n",
      "    \n"
     ]
    },
    {
     "name": "stderr",
     "output_type": "stream",
     "text": [
      "\n",
      "\u001b[A\n",
      "\u001b[A\n",
      "\u001b[A\n",
      "\u001b[A\n",
      "\u001b[A\n",
      "100%|█████████████████████████████████████████████████████████████████████████████████████████████████████████████████████████████████████| 5/5 [00:21<00:00,  4.38s/it]\n",
      "100%|█████████████████████████████████████████████████████████████████████████████████████████████████████████████████████████████████████| 3/3 [01:17<00:00, 25.70s/it]"
     ]
    },
    {
     "name": "stdout",
     "output_type": "stream",
     "text": [
      "\n",
      "        # Simulations: 5\n",
      "        Accuracies: [1.0, 0.8, 0.6, 0.8, 0.6]\n",
      "        Median: 0.8\n",
      "        Mean: 0.76\n",
      "    \n"
     ]
    },
    {
     "name": "stderr",
     "output_type": "stream",
     "text": [
      "\n"
     ]
    }
   ],
   "source": [
    "# Simulate 5 runs at three different temperatures\n",
    "puzzle_accuracies = []\n",
    "for tmp in tqdm([0, 0.25, .5]):\n",
    "    model = ChatAnthropic(model=\"claude-3-5-sonnet-20240620\", temperature=tmp)\n",
    "    puzzle_accuracies = []\n",
    "    for i in tqdm(range(5)):\n",
    "        ws = AgentWordSearch()\n",
    "        ws.create_word_search(model, 'math', 5, n_rows, n_rows)\n",
    "        try:\n",
    "            word_matches = find_words(string_to_grid(ws.puzzle), ws.words)\n",
    "        except:\n",
    "            # any puzzle error means accuracy = 0\n",
    "            puzzle_accuracies.append(0)\n",
    "        else:\n",
    "            puzzle_accuracies.append(get_puzzle_accuracy(word_matches))\n",
    "            \n",
    "    print(f'''\n",
    "    # Simulations: {len(puzzle_accuracies)}\n",
    "    Accuracies: {puzzle_accuracies}\n",
    "    Median: {np.median(puzzle_accuracies)}\n",
    "    Mean: {np.mean(puzzle_accuracies)}\n",
    "    ''')\n",
    "\n",
    "    # Reset puzzle_accuracies\n",
    "    puzzle_accuracies = []"
   ]
  },
  {
   "cell_type": "code",
   "execution_count": 13,
   "id": "1dfc5678-b51f-430e-aaa0-54f787025c46",
   "metadata": {},
   "outputs": [
    {
     "name": "stderr",
     "output_type": "stream",
     "text": [
      "100%|█████████████████████████████████████████████████████████████████████████████████████████████████████████████████████████████████████| 5/5 [00:31<00:00,  6.30s/it]"
     ]
    },
    {
     "name": "stdout",
     "output_type": "stream",
     "text": [
      "5\n",
      "\n",
      "    # Simulations: 5\n",
      "    Accuracies: [0.6, 0.2, 0.2, 0.2, 0.2]\n",
      "    Median: 0.2\n",
      "    Mean: 0.27999999999999997\n",
      "\n"
     ]
    },
    {
     "name": "stderr",
     "output_type": "stream",
     "text": [
      "\n"
     ]
    }
   ],
   "source": [
    "# Test a different prompt\n",
    "alt_puzzlemaker_prompt = PromptTemplate(\n",
    "    template = \"\"\"\n",
    "    You are an expert word search puzzle creator. Your task is to generate a word search puzzle based on the given input. Here are the details:\n",
    "\n",
    "    Instructions:\n",
    "    1. Create a word search puzzle using these words: {words}\n",
    "    2. The puzzle grid should have {n_rows} rows and {n_cols} columns.\n",
    "    3. Place each word in the puzzle exactly once.\n",
    "    4. Words must be placed in straight lines: horizontally, vertically, or diagonally.\n",
    "    5. Words must not pivot or change direction within the puzzle.\n",
    "    6. Do not insert extra letters into words.\n",
    "    7. Fill empty spaces with random letters.\n",
    "\n",
    "    Puzzle Creation Process:\n",
    "    1. Create an empty grid of the specified size.\n",
    "    2. For each word:\n",
    "        a. Choose a random starting position.\n",
    "        b. Choose a random direction (horizontal, vertical, or diagonal).\n",
    "        c. Check if the word fits in the chosen direction without overlapping other words.\n",
    "        d. If it fits, place the word; if not, try a new position or direction.\n",
    "    3. Once all words are placed, fill remaining spaces with random letters.\n",
    "\n",
    "    EXAMPLE 1:\n",
    "    Words are dog, cat, ant\n",
    "    Puzzle is 5 rows and 5 columns\n",
    "    Example puzzle is\n",
    "    X X X X D\n",
    "    X T X X O\n",
    "    T N X X G\n",
    "    X A X X X\n",
    "    X X C X X\n",
    "\n",
    "    Output Format: Return only the puzzle with one space between each letter.  Do not provide any other output such as \"Here's a 7X7 word search puzzle grind containing the requested words:\"\n",
    "    \"\"\",\n",
    "    input_variables = ['words', 'n_rows', 'n_cols']\n",
    ")\n",
    "\n",
    "puzzle_accuracies = []\n",
    "model = ChatAnthropic(model=\"claude-3-5-sonnet-20240620\", temperature=0)\n",
    "for i in tqdm(range(5)):\n",
    "    ws = AgentWordSearch()\n",
    "    ws.create_word_search(model, 'math', 5, n_rows, n_rows, puzzlemaker_prompt=alt_puzzlemaker_prompt)\n",
    "    try:\n",
    "        word_matches = find_words(string_to_grid(ws.puzzle), ws.words)\n",
    "    except:\n",
    "        # any puzzle error means accuracy = 0\n",
    "        puzzle_accuracies.append(0)\n",
    "    else:\n",
    "        puzzle_accuracies.append(get_puzzle_accuracy(word_matches))\n",
    "    \n",
    "    # Print status\n",
    "    if i % 5 == 4:\n",
    "        print(i+1)\n",
    "\n",
    "print(f'''\n",
    "# Simulations: {len(puzzle_accuracies)}\n",
    "Accuracies: {puzzle_accuracies}\n",
    "Median: {np.median(puzzle_accuracies)}\n",
    "Mean: {np.mean(puzzle_accuracies)}\n",
    "''')\n"
   ]
  },
  {
   "cell_type": "code",
   "execution_count": null,
   "id": "ac17fb0c-1684-4151-aaad-1764a0dfecf9",
   "metadata": {},
   "outputs": [],
   "source": []
  }
 ],
 "metadata": {
  "kernelspec": {
   "display_name": "Python 3 (ipykernel)",
   "language": "python",
   "name": "python3"
  },
  "language_info": {
   "codemirror_mode": {
    "name": "ipython",
    "version": 3
   },
   "file_extension": ".py",
   "mimetype": "text/x-python",
   "name": "python",
   "nbconvert_exporter": "python",
   "pygments_lexer": "ipython3",
   "version": "3.12.3"
  }
 },
 "nbformat": 4,
 "nbformat_minor": 5
}
